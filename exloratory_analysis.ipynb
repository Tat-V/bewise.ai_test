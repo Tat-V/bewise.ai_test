{
  "nbformat": 4,
  "nbformat_minor": 0,
  "metadata": {
    "colab": {
      "name": "exloratory_analysis.ipynb",
      "provenance": [],
      "collapsed_sections": []
    },
    "kernelspec": {
      "name": "python3",
      "display_name": "Python 3"
    },
    "language_info": {
      "name": "python"
    }
  },
  "cells": [
    {
      "cell_type": "code",
      "source": [
        "from google.colab import drive\n",
        "drive.mount('/content/drive')"
      ],
      "metadata": {
        "colab": {
          "base_uri": "https://localhost:8080/"
        },
        "id": "dCYjy249kpJ2",
        "outputId": "113f061b-b738-4e05-9a25-db688d84b02b"
      },
      "execution_count": 1,
      "outputs": [
        {
          "output_type": "stream",
          "name": "stdout",
          "text": [
            "Mounted at /content/drive\n"
          ]
        }
      ]
    },
    {
      "cell_type": "code",
      "source": [
        "!python -m textblob.download_corpora\n",
        "!pip install pymorphy2"
      ],
      "metadata": {
        "colab": {
          "base_uri": "https://localhost:8080/"
        },
        "id": "NGIKZ8Yg166a",
        "outputId": "71641461-c2e6-4dfc-bd78-46b987150e9a"
      },
      "execution_count": 2,
      "outputs": [
        {
          "output_type": "stream",
          "name": "stdout",
          "text": [
            "[nltk_data] Downloading package brown to /root/nltk_data...\n",
            "[nltk_data]   Unzipping corpora/brown.zip.\n",
            "[nltk_data] Downloading package punkt to /root/nltk_data...\n",
            "[nltk_data]   Unzipping tokenizers/punkt.zip.\n",
            "[nltk_data] Downloading package wordnet to /root/nltk_data...\n",
            "[nltk_data] Downloading package averaged_perceptron_tagger to\n",
            "[nltk_data]     /root/nltk_data...\n",
            "[nltk_data]   Unzipping taggers/averaged_perceptron_tagger.zip.\n",
            "[nltk_data] Downloading package conll2000 to /root/nltk_data...\n",
            "[nltk_data]   Unzipping corpora/conll2000.zip.\n",
            "[nltk_data] Downloading package movie_reviews to /root/nltk_data...\n",
            "[nltk_data]   Unzipping corpora/movie_reviews.zip.\n",
            "Finished.\n",
            "Looking in indexes: https://pypi.org/simple, https://us-python.pkg.dev/colab-wheels/public/simple/\n",
            "Collecting pymorphy2\n",
            "  Downloading pymorphy2-0.9.1-py3-none-any.whl (55 kB)\n",
            "\u001b[K     |████████████████████████████████| 55 kB 2.5 MB/s \n",
            "\u001b[?25hCollecting pymorphy2-dicts-ru<3.0,>=2.4\n",
            "  Downloading pymorphy2_dicts_ru-2.4.417127.4579844-py2.py3-none-any.whl (8.2 MB)\n",
            "\u001b[K     |████████████████████████████████| 8.2 MB 13.8 MB/s \n",
            "\u001b[?25hCollecting dawg-python>=0.7.1\n",
            "  Downloading DAWG_Python-0.7.2-py2.py3-none-any.whl (11 kB)\n",
            "Collecting docopt>=0.6\n",
            "  Downloading docopt-0.6.2.tar.gz (25 kB)\n",
            "Building wheels for collected packages: docopt\n",
            "  Building wheel for docopt (setup.py) ... \u001b[?25l\u001b[?25hdone\n",
            "  Created wheel for docopt: filename=docopt-0.6.2-py2.py3-none-any.whl size=13723 sha256=7fd0789ea6684dae2bdec364b80db31dcf42b40ece86c33cf53e666b568bc7d2\n",
            "  Stored in directory: /root/.cache/pip/wheels/72/b0/3f/1d95f96ff986c7dfffe46ce2be4062f38ebd04b506c77c81b9\n",
            "Successfully built docopt\n",
            "Installing collected packages: pymorphy2-dicts-ru, docopt, dawg-python, pymorphy2\n",
            "Successfully installed dawg-python-0.7.2 docopt-0.6.2 pymorphy2-0.9.1 pymorphy2-dicts-ru-2.4.417127.4579844\n"
          ]
        }
      ]
    },
    {
      "cell_type": "code",
      "execution_count": 3,
      "metadata": {
        "id": "uZkpS7yekeOD",
        "colab": {
          "base_uri": "https://localhost:8080/"
        },
        "outputId": "aec5cdf1-ab4c-45f6-fef6-8962a0d4f8bb"
      },
      "outputs": [
        {
          "output_type": "stream",
          "name": "stderr",
          "text": [
            "[nltk_data] Downloading collection 'all'\n",
            "[nltk_data]    | \n",
            "[nltk_data]    | Downloading package abc to /root/nltk_data...\n",
            "[nltk_data]    |   Unzipping corpora/abc.zip.\n",
            "[nltk_data]    | Downloading package alpino to /root/nltk_data...\n",
            "[nltk_data]    |   Unzipping corpora/alpino.zip.\n",
            "[nltk_data]    | Downloading package averaged_perceptron_tagger to\n",
            "[nltk_data]    |     /root/nltk_data...\n",
            "[nltk_data]    |   Package averaged_perceptron_tagger is already up-\n",
            "[nltk_data]    |       to-date!\n",
            "[nltk_data]    | Downloading package averaged_perceptron_tagger_ru to\n",
            "[nltk_data]    |     /root/nltk_data...\n",
            "[nltk_data]    |   Unzipping\n",
            "[nltk_data]    |       taggers/averaged_perceptron_tagger_ru.zip.\n",
            "[nltk_data]    | Downloading package basque_grammars to\n",
            "[nltk_data]    |     /root/nltk_data...\n",
            "[nltk_data]    |   Unzipping grammars/basque_grammars.zip.\n",
            "[nltk_data]    | Downloading package biocreative_ppi to\n",
            "[nltk_data]    |     /root/nltk_data...\n",
            "[nltk_data]    |   Unzipping corpora/biocreative_ppi.zip.\n",
            "[nltk_data]    | Downloading package bllip_wsj_no_aux to\n",
            "[nltk_data]    |     /root/nltk_data...\n",
            "[nltk_data]    |   Unzipping models/bllip_wsj_no_aux.zip.\n",
            "[nltk_data]    | Downloading package book_grammars to\n",
            "[nltk_data]    |     /root/nltk_data...\n",
            "[nltk_data]    |   Unzipping grammars/book_grammars.zip.\n",
            "[nltk_data]    | Downloading package brown to /root/nltk_data...\n",
            "[nltk_data]    |   Package brown is already up-to-date!\n",
            "[nltk_data]    | Downloading package brown_tei to /root/nltk_data...\n",
            "[nltk_data]    |   Unzipping corpora/brown_tei.zip.\n",
            "[nltk_data]    | Downloading package cess_cat to /root/nltk_data...\n",
            "[nltk_data]    |   Unzipping corpora/cess_cat.zip.\n",
            "[nltk_data]    | Downloading package cess_esp to /root/nltk_data...\n",
            "[nltk_data]    |   Unzipping corpora/cess_esp.zip.\n",
            "[nltk_data]    | Downloading package chat80 to /root/nltk_data...\n",
            "[nltk_data]    |   Unzipping corpora/chat80.zip.\n",
            "[nltk_data]    | Downloading package city_database to\n",
            "[nltk_data]    |     /root/nltk_data...\n",
            "[nltk_data]    |   Unzipping corpora/city_database.zip.\n",
            "[nltk_data]    | Downloading package cmudict to /root/nltk_data...\n",
            "[nltk_data]    |   Unzipping corpora/cmudict.zip.\n",
            "[nltk_data]    | Downloading package comparative_sentences to\n",
            "[nltk_data]    |     /root/nltk_data...\n",
            "[nltk_data]    |   Unzipping corpora/comparative_sentences.zip.\n",
            "[nltk_data]    | Downloading package comtrans to /root/nltk_data...\n",
            "[nltk_data]    | Downloading package conll2000 to /root/nltk_data...\n",
            "[nltk_data]    |   Package conll2000 is already up-to-date!\n",
            "[nltk_data]    | Downloading package conll2002 to /root/nltk_data...\n",
            "[nltk_data]    |   Unzipping corpora/conll2002.zip.\n",
            "[nltk_data]    | Downloading package conll2007 to /root/nltk_data...\n",
            "[nltk_data]    | Downloading package crubadan to /root/nltk_data...\n",
            "[nltk_data]    |   Unzipping corpora/crubadan.zip.\n",
            "[nltk_data]    | Downloading package dependency_treebank to\n",
            "[nltk_data]    |     /root/nltk_data...\n",
            "[nltk_data]    |   Unzipping corpora/dependency_treebank.zip.\n",
            "[nltk_data]    | Downloading package dolch to /root/nltk_data...\n",
            "[nltk_data]    |   Unzipping corpora/dolch.zip.\n",
            "[nltk_data]    | Downloading package europarl_raw to\n",
            "[nltk_data]    |     /root/nltk_data...\n",
            "[nltk_data]    |   Unzipping corpora/europarl_raw.zip.\n",
            "[nltk_data]    | Downloading package extended_omw to\n",
            "[nltk_data]    |     /root/nltk_data...\n",
            "[nltk_data]    | Downloading package floresta to /root/nltk_data...\n",
            "[nltk_data]    |   Unzipping corpora/floresta.zip.\n",
            "[nltk_data]    | Downloading package framenet_v15 to\n",
            "[nltk_data]    |     /root/nltk_data...\n",
            "[nltk_data]    |   Unzipping corpora/framenet_v15.zip.\n",
            "[nltk_data]    | Downloading package framenet_v17 to\n",
            "[nltk_data]    |     /root/nltk_data...\n",
            "[nltk_data]    |   Unzipping corpora/framenet_v17.zip.\n",
            "[nltk_data]    | Downloading package gazetteers to /root/nltk_data...\n",
            "[nltk_data]    |   Unzipping corpora/gazetteers.zip.\n",
            "[nltk_data]    | Downloading package genesis to /root/nltk_data...\n",
            "[nltk_data]    |   Unzipping corpora/genesis.zip.\n",
            "[nltk_data]    | Downloading package gutenberg to /root/nltk_data...\n",
            "[nltk_data]    |   Unzipping corpora/gutenberg.zip.\n",
            "[nltk_data]    | Downloading package ieer to /root/nltk_data...\n",
            "[nltk_data]    |   Unzipping corpora/ieer.zip.\n",
            "[nltk_data]    | Downloading package inaugural to /root/nltk_data...\n",
            "[nltk_data]    |   Unzipping corpora/inaugural.zip.\n",
            "[nltk_data]    | Downloading package indian to /root/nltk_data...\n",
            "[nltk_data]    |   Unzipping corpora/indian.zip.\n",
            "[nltk_data]    | Downloading package jeita to /root/nltk_data...\n",
            "[nltk_data]    | Downloading package kimmo to /root/nltk_data...\n",
            "[nltk_data]    |   Unzipping corpora/kimmo.zip.\n",
            "[nltk_data]    | Downloading package knbc to /root/nltk_data...\n",
            "[nltk_data]    | Downloading package large_grammars to\n",
            "[nltk_data]    |     /root/nltk_data...\n",
            "[nltk_data]    |   Unzipping grammars/large_grammars.zip.\n",
            "[nltk_data]    | Downloading package lin_thesaurus to\n",
            "[nltk_data]    |     /root/nltk_data...\n",
            "[nltk_data]    |   Unzipping corpora/lin_thesaurus.zip.\n",
            "[nltk_data]    | Downloading package mac_morpho to /root/nltk_data...\n",
            "[nltk_data]    |   Unzipping corpora/mac_morpho.zip.\n",
            "[nltk_data]    | Downloading package machado to /root/nltk_data...\n",
            "[nltk_data]    | Downloading package masc_tagged to /root/nltk_data...\n",
            "[nltk_data]    | Downloading package maxent_ne_chunker to\n",
            "[nltk_data]    |     /root/nltk_data...\n",
            "[nltk_data]    |   Unzipping chunkers/maxent_ne_chunker.zip.\n",
            "[nltk_data]    | Downloading package maxent_treebank_pos_tagger to\n",
            "[nltk_data]    |     /root/nltk_data...\n",
            "[nltk_data]    |   Unzipping taggers/maxent_treebank_pos_tagger.zip.\n",
            "[nltk_data]    | Downloading package moses_sample to\n",
            "[nltk_data]    |     /root/nltk_data...\n",
            "[nltk_data]    |   Unzipping models/moses_sample.zip.\n",
            "[nltk_data]    | Downloading package movie_reviews to\n",
            "[nltk_data]    |     /root/nltk_data...\n",
            "[nltk_data]    |   Package movie_reviews is already up-to-date!\n",
            "[nltk_data]    | Downloading package mte_teip5 to /root/nltk_data...\n",
            "[nltk_data]    |   Unzipping corpora/mte_teip5.zip.\n",
            "[nltk_data]    | Downloading package mwa_ppdb to /root/nltk_data...\n",
            "[nltk_data]    |   Unzipping misc/mwa_ppdb.zip.\n",
            "[nltk_data]    | Downloading package names to /root/nltk_data...\n",
            "[nltk_data]    |   Unzipping corpora/names.zip.\n",
            "[nltk_data]    | Downloading package nombank.1.0 to /root/nltk_data...\n",
            "[nltk_data]    | Downloading package nonbreaking_prefixes to\n",
            "[nltk_data]    |     /root/nltk_data...\n",
            "[nltk_data]    |   Unzipping corpora/nonbreaking_prefixes.zip.\n",
            "[nltk_data]    | Downloading package nps_chat to /root/nltk_data...\n",
            "[nltk_data]    |   Unzipping corpora/nps_chat.zip.\n",
            "[nltk_data]    | Downloading package omw to /root/nltk_data...\n",
            "[nltk_data]    | Downloading package omw-1.4 to /root/nltk_data...\n",
            "[nltk_data]    | Downloading package opinion_lexicon to\n",
            "[nltk_data]    |     /root/nltk_data...\n",
            "[nltk_data]    |   Unzipping corpora/opinion_lexicon.zip.\n",
            "[nltk_data]    | Downloading package panlex_swadesh to\n",
            "[nltk_data]    |     /root/nltk_data...\n",
            "[nltk_data]    | Downloading package paradigms to /root/nltk_data...\n",
            "[nltk_data]    |   Unzipping corpora/paradigms.zip.\n",
            "[nltk_data]    | Downloading package pe08 to /root/nltk_data...\n",
            "[nltk_data]    |   Unzipping corpora/pe08.zip.\n",
            "[nltk_data]    | Downloading package perluniprops to\n",
            "[nltk_data]    |     /root/nltk_data...\n",
            "[nltk_data]    |   Unzipping misc/perluniprops.zip.\n",
            "[nltk_data]    | Downloading package pil to /root/nltk_data...\n",
            "[nltk_data]    |   Unzipping corpora/pil.zip.\n",
            "[nltk_data]    | Downloading package pl196x to /root/nltk_data...\n",
            "[nltk_data]    |   Unzipping corpora/pl196x.zip.\n",
            "[nltk_data]    | Downloading package porter_test to /root/nltk_data...\n",
            "[nltk_data]    |   Unzipping stemmers/porter_test.zip.\n",
            "[nltk_data]    | Downloading package ppattach to /root/nltk_data...\n",
            "[nltk_data]    |   Unzipping corpora/ppattach.zip.\n",
            "[nltk_data]    | Downloading package problem_reports to\n",
            "[nltk_data]    |     /root/nltk_data...\n",
            "[nltk_data]    |   Unzipping corpora/problem_reports.zip.\n",
            "[nltk_data]    | Downloading package product_reviews_1 to\n",
            "[nltk_data]    |     /root/nltk_data...\n",
            "[nltk_data]    |   Unzipping corpora/product_reviews_1.zip.\n",
            "[nltk_data]    | Downloading package product_reviews_2 to\n",
            "[nltk_data]    |     /root/nltk_data...\n",
            "[nltk_data]    |   Unzipping corpora/product_reviews_2.zip.\n",
            "[nltk_data]    | Downloading package propbank to /root/nltk_data...\n",
            "[nltk_data]    | Downloading package pros_cons to /root/nltk_data...\n",
            "[nltk_data]    |   Unzipping corpora/pros_cons.zip.\n",
            "[nltk_data]    | Downloading package ptb to /root/nltk_data...\n",
            "[nltk_data]    |   Unzipping corpora/ptb.zip.\n",
            "[nltk_data]    | Downloading package punkt to /root/nltk_data...\n",
            "[nltk_data]    |   Package punkt is already up-to-date!\n",
            "[nltk_data]    | Downloading package qc to /root/nltk_data...\n",
            "[nltk_data]    |   Unzipping corpora/qc.zip.\n",
            "[nltk_data]    | Downloading package reuters to /root/nltk_data...\n",
            "[nltk_data]    | Downloading package rslp to /root/nltk_data...\n",
            "[nltk_data]    |   Unzipping stemmers/rslp.zip.\n",
            "[nltk_data]    | Downloading package rte to /root/nltk_data...\n",
            "[nltk_data]    |   Unzipping corpora/rte.zip.\n",
            "[nltk_data]    | Downloading package sample_grammars to\n",
            "[nltk_data]    |     /root/nltk_data...\n",
            "[nltk_data]    |   Unzipping grammars/sample_grammars.zip.\n",
            "[nltk_data]    | Downloading package semcor to /root/nltk_data...\n",
            "[nltk_data]    | Downloading package senseval to /root/nltk_data...\n",
            "[nltk_data]    |   Unzipping corpora/senseval.zip.\n",
            "[nltk_data]    | Downloading package sentence_polarity to\n",
            "[nltk_data]    |     /root/nltk_data...\n",
            "[nltk_data]    |   Unzipping corpora/sentence_polarity.zip.\n",
            "[nltk_data]    | Downloading package sentiwordnet to\n",
            "[nltk_data]    |     /root/nltk_data...\n",
            "[nltk_data]    |   Unzipping corpora/sentiwordnet.zip.\n",
            "[nltk_data]    | Downloading package shakespeare to /root/nltk_data...\n",
            "[nltk_data]    |   Unzipping corpora/shakespeare.zip.\n",
            "[nltk_data]    | Downloading package sinica_treebank to\n",
            "[nltk_data]    |     /root/nltk_data...\n",
            "[nltk_data]    |   Unzipping corpora/sinica_treebank.zip.\n",
            "[nltk_data]    | Downloading package smultron to /root/nltk_data...\n",
            "[nltk_data]    |   Unzipping corpora/smultron.zip.\n",
            "[nltk_data]    | Downloading package snowball_data to\n",
            "[nltk_data]    |     /root/nltk_data...\n",
            "[nltk_data]    | Downloading package spanish_grammars to\n",
            "[nltk_data]    |     /root/nltk_data...\n",
            "[nltk_data]    |   Unzipping grammars/spanish_grammars.zip.\n",
            "[nltk_data]    | Downloading package state_union to /root/nltk_data...\n",
            "[nltk_data]    |   Unzipping corpora/state_union.zip.\n",
            "[nltk_data]    | Downloading package stopwords to /root/nltk_data...\n",
            "[nltk_data]    |   Unzipping corpora/stopwords.zip.\n",
            "[nltk_data]    | Downloading package subjectivity to\n",
            "[nltk_data]    |     /root/nltk_data...\n",
            "[nltk_data]    |   Unzipping corpora/subjectivity.zip.\n",
            "[nltk_data]    | Downloading package swadesh to /root/nltk_data...\n",
            "[nltk_data]    |   Unzipping corpora/swadesh.zip.\n",
            "[nltk_data]    | Downloading package switchboard to /root/nltk_data...\n",
            "[nltk_data]    |   Unzipping corpora/switchboard.zip.\n",
            "[nltk_data]    | Downloading package tagsets to /root/nltk_data...\n",
            "[nltk_data]    |   Unzipping help/tagsets.zip.\n",
            "[nltk_data]    | Downloading package timit to /root/nltk_data...\n",
            "[nltk_data]    |   Unzipping corpora/timit.zip.\n",
            "[nltk_data]    | Downloading package toolbox to /root/nltk_data...\n",
            "[nltk_data]    |   Unzipping corpora/toolbox.zip.\n",
            "[nltk_data]    | Downloading package treebank to /root/nltk_data...\n",
            "[nltk_data]    |   Unzipping corpora/treebank.zip.\n",
            "[nltk_data]    | Downloading package twitter_samples to\n",
            "[nltk_data]    |     /root/nltk_data...\n",
            "[nltk_data]    |   Unzipping corpora/twitter_samples.zip.\n",
            "[nltk_data]    | Downloading package udhr to /root/nltk_data...\n",
            "[nltk_data]    |   Unzipping corpora/udhr.zip.\n",
            "[nltk_data]    | Downloading package udhr2 to /root/nltk_data...\n",
            "[nltk_data]    |   Unzipping corpora/udhr2.zip.\n",
            "[nltk_data]    | Downloading package unicode_samples to\n",
            "[nltk_data]    |     /root/nltk_data...\n",
            "[nltk_data]    |   Unzipping corpora/unicode_samples.zip.\n",
            "[nltk_data]    | Downloading package universal_tagset to\n",
            "[nltk_data]    |     /root/nltk_data...\n",
            "[nltk_data]    |   Unzipping taggers/universal_tagset.zip.\n",
            "[nltk_data]    | Downloading package universal_treebanks_v20 to\n",
            "[nltk_data]    |     /root/nltk_data...\n",
            "[nltk_data]    | Downloading package vader_lexicon to\n",
            "[nltk_data]    |     /root/nltk_data...\n",
            "[nltk_data]    | Downloading package verbnet to /root/nltk_data...\n",
            "[nltk_data]    |   Unzipping corpora/verbnet.zip.\n",
            "[nltk_data]    | Downloading package verbnet3 to /root/nltk_data...\n",
            "[nltk_data]    |   Unzipping corpora/verbnet3.zip.\n",
            "[nltk_data]    | Downloading package webtext to /root/nltk_data...\n",
            "[nltk_data]    |   Unzipping corpora/webtext.zip.\n",
            "[nltk_data]    | Downloading package wmt15_eval to /root/nltk_data...\n",
            "[nltk_data]    |   Unzipping models/wmt15_eval.zip.\n",
            "[nltk_data]    | Downloading package word2vec_sample to\n",
            "[nltk_data]    |     /root/nltk_data...\n",
            "[nltk_data]    |   Unzipping models/word2vec_sample.zip.\n",
            "[nltk_data]    | Downloading package wordnet to /root/nltk_data...\n",
            "[nltk_data]    |   Package wordnet is already up-to-date!\n",
            "[nltk_data]    | Downloading package wordnet2021 to /root/nltk_data...\n",
            "[nltk_data]    | Downloading package wordnet31 to /root/nltk_data...\n",
            "[nltk_data]    | Downloading package wordnet_ic to /root/nltk_data...\n",
            "[nltk_data]    |   Unzipping corpora/wordnet_ic.zip.\n",
            "[nltk_data]    | Downloading package words to /root/nltk_data...\n",
            "[nltk_data]    |   Unzipping corpora/words.zip.\n",
            "[nltk_data]    | Downloading package ycoe to /root/nltk_data...\n",
            "[nltk_data]    |   Unzipping corpora/ycoe.zip.\n",
            "[nltk_data]    | \n",
            "[nltk_data]  Done downloading collection all\n"
          ]
        },
        {
          "output_type": "execute_result",
          "data": {
            "text/plain": [
              "True"
            ]
          },
          "metadata": {},
          "execution_count": 3
        }
      ],
      "source": [
        "import pandas as pd\n",
        "from textblob import TextBlob, Word\n",
        "\n",
        "import nltk\n",
        "from nltk.corpus import stopwords\n",
        "from nltk.stem import SnowballStemmer\n",
        "import pymorphy2\n",
        "\n",
        "\n",
        "# nltk.download('omw-1.4')\n",
        "nltk.download('all')"
      ]
    },
    {
      "cell_type": "markdown",
      "source": [
        "**Exploratory analysis**"
      ],
      "metadata": {
        "id": "56tx2Mmx4TWX"
      }
    },
    {
      "cell_type": "code",
      "source": [
        "f_data = '/content/drive/MyDrive/test_data.csv'\n",
        "data = pd.read_csv(f_data)\n",
        "data.iloc[250:270, :]"
      ],
      "metadata": {
        "colab": {
          "base_uri": "https://localhost:8080/",
          "height": 677
        },
        "id": "VKUhDPbalSbA",
        "outputId": "56b4e971-930a-4178-9f91-cdf86961977a"
      },
      "execution_count": 4,
      "outputs": [
        {
          "output_type": "execute_result",
          "data": {
            "text/plain": [
              "     dlg_id  line_n     role  \\\n",
              "250       3       1  manager   \n",
              "251       3       2  manager   \n",
              "252       3       3   client   \n",
              "253       3       4  manager   \n",
              "254       3       5   client   \n",
              "255       3       6   client   \n",
              "256       3       7  manager   \n",
              "257       3       8   client   \n",
              "258       3       9   client   \n",
              "259       3      10   client   \n",
              "260       3      11  manager   \n",
              "261       3      12   client   \n",
              "262       3      13   client   \n",
              "263       3      14   client   \n",
              "264       3      15   client   \n",
              "265       3      16  manager   \n",
              "266       3      17  manager   \n",
              "267       3      18   client   \n",
              "268       3      19  manager   \n",
              "269       3      20   client   \n",
              "\n",
              "                                                  text  \n",
              "250                           Алло дмитрий добрый день  \n",
              "251  Добрый меня максим зовут компания китобизнес у...  \n",
              "252                                          Да удобно  \n",
              "253  Да дмитрий вот мне моя коллега анастасия подск...  \n",
              "254                                А задача в общем то  \n",
              "255                       Стоит из чего сейчас секунду  \n",
              "256                                                Угу  \n",
              "257                                            В общем  \n",
              "258    Настроить воронки как бы и все такое я могу сам  \n",
              "259              Вот и даже сделать этого сэйл с ботом  \n",
              "260                Очень важно я думаю вот например да  \n",
              "261                                  Очень важно чтобы  \n",
              "262                                            Я думаю  \n",
              "263  Вот например я увидел обновление инбокс да поя...  \n",
              "264  Вот там сохранится прям сейчас и сразу мессенджер  \n",
              "265                                                 Да  \n",
              "266  Да абсолютно все то есть это единое такое окно...  \n",
              "267                                                Угу  \n",
              "268  Так а вот подскажите пожалуйста может быть про...  \n",
              "269                                            Я понял  "
            ],
            "text/html": [
              "\n",
              "  <div id=\"df-c34ebbb9-fcac-420c-aea9-cdb04f242ff5\">\n",
              "    <div class=\"colab-df-container\">\n",
              "      <div>\n",
              "<style scoped>\n",
              "    .dataframe tbody tr th:only-of-type {\n",
              "        vertical-align: middle;\n",
              "    }\n",
              "\n",
              "    .dataframe tbody tr th {\n",
              "        vertical-align: top;\n",
              "    }\n",
              "\n",
              "    .dataframe thead th {\n",
              "        text-align: right;\n",
              "    }\n",
              "</style>\n",
              "<table border=\"1\" class=\"dataframe\">\n",
              "  <thead>\n",
              "    <tr style=\"text-align: right;\">\n",
              "      <th></th>\n",
              "      <th>dlg_id</th>\n",
              "      <th>line_n</th>\n",
              "      <th>role</th>\n",
              "      <th>text</th>\n",
              "    </tr>\n",
              "  </thead>\n",
              "  <tbody>\n",
              "    <tr>\n",
              "      <th>250</th>\n",
              "      <td>3</td>\n",
              "      <td>1</td>\n",
              "      <td>manager</td>\n",
              "      <td>Алло дмитрий добрый день</td>\n",
              "    </tr>\n",
              "    <tr>\n",
              "      <th>251</th>\n",
              "      <td>3</td>\n",
              "      <td>2</td>\n",
              "      <td>manager</td>\n",
              "      <td>Добрый меня максим зовут компания китобизнес у...</td>\n",
              "    </tr>\n",
              "    <tr>\n",
              "      <th>252</th>\n",
              "      <td>3</td>\n",
              "      <td>3</td>\n",
              "      <td>client</td>\n",
              "      <td>Да удобно</td>\n",
              "    </tr>\n",
              "    <tr>\n",
              "      <th>253</th>\n",
              "      <td>3</td>\n",
              "      <td>4</td>\n",
              "      <td>manager</td>\n",
              "      <td>Да дмитрий вот мне моя коллега анастасия подск...</td>\n",
              "    </tr>\n",
              "    <tr>\n",
              "      <th>254</th>\n",
              "      <td>3</td>\n",
              "      <td>5</td>\n",
              "      <td>client</td>\n",
              "      <td>А задача в общем то</td>\n",
              "    </tr>\n",
              "    <tr>\n",
              "      <th>255</th>\n",
              "      <td>3</td>\n",
              "      <td>6</td>\n",
              "      <td>client</td>\n",
              "      <td>Стоит из чего сейчас секунду</td>\n",
              "    </tr>\n",
              "    <tr>\n",
              "      <th>256</th>\n",
              "      <td>3</td>\n",
              "      <td>7</td>\n",
              "      <td>manager</td>\n",
              "      <td>Угу</td>\n",
              "    </tr>\n",
              "    <tr>\n",
              "      <th>257</th>\n",
              "      <td>3</td>\n",
              "      <td>8</td>\n",
              "      <td>client</td>\n",
              "      <td>В общем</td>\n",
              "    </tr>\n",
              "    <tr>\n",
              "      <th>258</th>\n",
              "      <td>3</td>\n",
              "      <td>9</td>\n",
              "      <td>client</td>\n",
              "      <td>Настроить воронки как бы и все такое я могу сам</td>\n",
              "    </tr>\n",
              "    <tr>\n",
              "      <th>259</th>\n",
              "      <td>3</td>\n",
              "      <td>10</td>\n",
              "      <td>client</td>\n",
              "      <td>Вот и даже сделать этого сэйл с ботом</td>\n",
              "    </tr>\n",
              "    <tr>\n",
              "      <th>260</th>\n",
              "      <td>3</td>\n",
              "      <td>11</td>\n",
              "      <td>manager</td>\n",
              "      <td>Очень важно я думаю вот например да</td>\n",
              "    </tr>\n",
              "    <tr>\n",
              "      <th>261</th>\n",
              "      <td>3</td>\n",
              "      <td>12</td>\n",
              "      <td>client</td>\n",
              "      <td>Очень важно чтобы</td>\n",
              "    </tr>\n",
              "    <tr>\n",
              "      <th>262</th>\n",
              "      <td>3</td>\n",
              "      <td>13</td>\n",
              "      <td>client</td>\n",
              "      <td>Я думаю</td>\n",
              "    </tr>\n",
              "    <tr>\n",
              "      <th>263</th>\n",
              "      <td>3</td>\n",
              "      <td>14</td>\n",
              "      <td>client</td>\n",
              "      <td>Вот например я увидел обновление инбокс да поя...</td>\n",
              "    </tr>\n",
              "    <tr>\n",
              "      <th>264</th>\n",
              "      <td>3</td>\n",
              "      <td>15</td>\n",
              "      <td>client</td>\n",
              "      <td>Вот там сохранится прям сейчас и сразу мессенджер</td>\n",
              "    </tr>\n",
              "    <tr>\n",
              "      <th>265</th>\n",
              "      <td>3</td>\n",
              "      <td>16</td>\n",
              "      <td>manager</td>\n",
              "      <td>Да</td>\n",
              "    </tr>\n",
              "    <tr>\n",
              "      <th>266</th>\n",
              "      <td>3</td>\n",
              "      <td>17</td>\n",
              "      <td>manager</td>\n",
              "      <td>Да абсолютно все то есть это единое такое окно...</td>\n",
              "    </tr>\n",
              "    <tr>\n",
              "      <th>267</th>\n",
              "      <td>3</td>\n",
              "      <td>18</td>\n",
              "      <td>client</td>\n",
              "      <td>Угу</td>\n",
              "    </tr>\n",
              "    <tr>\n",
              "      <th>268</th>\n",
              "      <td>3</td>\n",
              "      <td>19</td>\n",
              "      <td>manager</td>\n",
              "      <td>Так а вот подскажите пожалуйста может быть про...</td>\n",
              "    </tr>\n",
              "    <tr>\n",
              "      <th>269</th>\n",
              "      <td>3</td>\n",
              "      <td>20</td>\n",
              "      <td>client</td>\n",
              "      <td>Я понял</td>\n",
              "    </tr>\n",
              "  </tbody>\n",
              "</table>\n",
              "</div>\n",
              "      <button class=\"colab-df-convert\" onclick=\"convertToInteractive('df-c34ebbb9-fcac-420c-aea9-cdb04f242ff5')\"\n",
              "              title=\"Convert this dataframe to an interactive table.\"\n",
              "              style=\"display:none;\">\n",
              "        \n",
              "  <svg xmlns=\"http://www.w3.org/2000/svg\" height=\"24px\"viewBox=\"0 0 24 24\"\n",
              "       width=\"24px\">\n",
              "    <path d=\"M0 0h24v24H0V0z\" fill=\"none\"/>\n",
              "    <path d=\"M18.56 5.44l.94 2.06.94-2.06 2.06-.94-2.06-.94-.94-2.06-.94 2.06-2.06.94zm-11 1L8.5 8.5l.94-2.06 2.06-.94-2.06-.94L8.5 2.5l-.94 2.06-2.06.94zm10 10l.94 2.06.94-2.06 2.06-.94-2.06-.94-.94-2.06-.94 2.06-2.06.94z\"/><path d=\"M17.41 7.96l-1.37-1.37c-.4-.4-.92-.59-1.43-.59-.52 0-1.04.2-1.43.59L10.3 9.45l-7.72 7.72c-.78.78-.78 2.05 0 2.83L4 21.41c.39.39.9.59 1.41.59.51 0 1.02-.2 1.41-.59l7.78-7.78 2.81-2.81c.8-.78.8-2.07 0-2.86zM5.41 20L4 18.59l7.72-7.72 1.47 1.35L5.41 20z\"/>\n",
              "  </svg>\n",
              "      </button>\n",
              "      \n",
              "  <style>\n",
              "    .colab-df-container {\n",
              "      display:flex;\n",
              "      flex-wrap:wrap;\n",
              "      gap: 12px;\n",
              "    }\n",
              "\n",
              "    .colab-df-convert {\n",
              "      background-color: #E8F0FE;\n",
              "      border: none;\n",
              "      border-radius: 50%;\n",
              "      cursor: pointer;\n",
              "      display: none;\n",
              "      fill: #1967D2;\n",
              "      height: 32px;\n",
              "      padding: 0 0 0 0;\n",
              "      width: 32px;\n",
              "    }\n",
              "\n",
              "    .colab-df-convert:hover {\n",
              "      background-color: #E2EBFA;\n",
              "      box-shadow: 0px 1px 2px rgba(60, 64, 67, 0.3), 0px 1px 3px 1px rgba(60, 64, 67, 0.15);\n",
              "      fill: #174EA6;\n",
              "    }\n",
              "\n",
              "    [theme=dark] .colab-df-convert {\n",
              "      background-color: #3B4455;\n",
              "      fill: #D2E3FC;\n",
              "    }\n",
              "\n",
              "    [theme=dark] .colab-df-convert:hover {\n",
              "      background-color: #434B5C;\n",
              "      box-shadow: 0px 1px 3px 1px rgba(0, 0, 0, 0.15);\n",
              "      filter: drop-shadow(0px 1px 2px rgba(0, 0, 0, 0.3));\n",
              "      fill: #FFFFFF;\n",
              "    }\n",
              "  </style>\n",
              "\n",
              "      <script>\n",
              "        const buttonEl =\n",
              "          document.querySelector('#df-c34ebbb9-fcac-420c-aea9-cdb04f242ff5 button.colab-df-convert');\n",
              "        buttonEl.style.display =\n",
              "          google.colab.kernel.accessAllowed ? 'block' : 'none';\n",
              "\n",
              "        async function convertToInteractive(key) {\n",
              "          const element = document.querySelector('#df-c34ebbb9-fcac-420c-aea9-cdb04f242ff5');\n",
              "          const dataTable =\n",
              "            await google.colab.kernel.invokeFunction('convertToInteractive',\n",
              "                                                     [key], {});\n",
              "          if (!dataTable) return;\n",
              "\n",
              "          const docLinkHtml = 'Like what you see? Visit the ' +\n",
              "            '<a target=\"_blank\" href=https://colab.research.google.com/notebooks/data_table.ipynb>data table notebook</a>'\n",
              "            + ' to learn more about interactive tables.';\n",
              "          element.innerHTML = '';\n",
              "          dataTable['output_type'] = 'display_data';\n",
              "          await google.colab.output.renderOutput(dataTable, element);\n",
              "          const docLink = document.createElement('div');\n",
              "          docLink.innerHTML = docLinkHtml;\n",
              "          element.appendChild(docLink);\n",
              "        }\n",
              "      </script>\n",
              "    </div>\n",
              "  </div>\n",
              "  "
            ]
          },
          "metadata": {},
          "execution_count": 4
        }
      ]
    },
    {
      "cell_type": "code",
      "source": [
        "# Выборка реплик менеджера из данных и подсчет числа диалогов в наборе данных\n",
        "\n",
        "m_data = data[data['role']=='manager']\n",
        "# m_data.groupby(['dlg_id']).count()\n",
        "dlg_count = pd.unique(m_data['dlg_id'])\n",
        "dlg_count"
      ],
      "metadata": {
        "colab": {
          "base_uri": "https://localhost:8080/"
        },
        "id": "0ZFcRI2upojU",
        "outputId": "ef8a16a7-9a45-4a8a-8118-bbfa7935decb"
      },
      "execution_count": 5,
      "outputs": [
        {
          "output_type": "execute_result",
          "data": {
            "text/plain": [
              "array([0, 1, 2, 3, 4, 5])"
            ]
          },
          "metadata": {},
          "execution_count": 5
        }
      ]
    },
    {
      "cell_type": "code",
      "source": [
        "# Объединение всех реплик менеджера в единый текст\n",
        "\n",
        "data_txt = m_data.groupby(['dlg_id'])['text'].transform(lambda x: '. '.join(x)).drop_duplicates().reset_index()\n",
        "data_txt['text'] = data_txt['text'].transform(lambda x: x.lower())\n",
        "\n",
        "data_txt"
      ],
      "metadata": {
        "colab": {
          "base_uri": "https://localhost:8080/",
          "height": 238
        },
        "id": "_t0cCbigq-fg",
        "outputId": "773468b2-1b58-4105-f07c-0b4e2c00b41a"
      },
      "execution_count": 6,
      "outputs": [
        {
          "output_type": "execute_result",
          "data": {
            "text/plain": [
              "   index                                               text\n",
              "0      1  алло здравствуйте. меня зовут ангелина компани...\n",
              "1    110  алло здравствуйте. меня зовут ангелина компани...\n",
              "2    166  алло здравствуйте. меня зовут ангелина компани...\n",
              "3    250  алло дмитрий добрый день. добрый меня максим з...\n",
              "4    305  вот по виду платежи пообщаться помните мы вот ...\n",
              "5    338  да это анастасия. угу. так да да хорошо смотри..."
            ],
            "text/html": [
              "\n",
              "  <div id=\"df-876739d9-c520-40c7-ad79-1148ca0c92da\">\n",
              "    <div class=\"colab-df-container\">\n",
              "      <div>\n",
              "<style scoped>\n",
              "    .dataframe tbody tr th:only-of-type {\n",
              "        vertical-align: middle;\n",
              "    }\n",
              "\n",
              "    .dataframe tbody tr th {\n",
              "        vertical-align: top;\n",
              "    }\n",
              "\n",
              "    .dataframe thead th {\n",
              "        text-align: right;\n",
              "    }\n",
              "</style>\n",
              "<table border=\"1\" class=\"dataframe\">\n",
              "  <thead>\n",
              "    <tr style=\"text-align: right;\">\n",
              "      <th></th>\n",
              "      <th>index</th>\n",
              "      <th>text</th>\n",
              "    </tr>\n",
              "  </thead>\n",
              "  <tbody>\n",
              "    <tr>\n",
              "      <th>0</th>\n",
              "      <td>1</td>\n",
              "      <td>алло здравствуйте. меня зовут ангелина компани...</td>\n",
              "    </tr>\n",
              "    <tr>\n",
              "      <th>1</th>\n",
              "      <td>110</td>\n",
              "      <td>алло здравствуйте. меня зовут ангелина компани...</td>\n",
              "    </tr>\n",
              "    <tr>\n",
              "      <th>2</th>\n",
              "      <td>166</td>\n",
              "      <td>алло здравствуйте. меня зовут ангелина компани...</td>\n",
              "    </tr>\n",
              "    <tr>\n",
              "      <th>3</th>\n",
              "      <td>250</td>\n",
              "      <td>алло дмитрий добрый день. добрый меня максим з...</td>\n",
              "    </tr>\n",
              "    <tr>\n",
              "      <th>4</th>\n",
              "      <td>305</td>\n",
              "      <td>вот по виду платежи пообщаться помните мы вот ...</td>\n",
              "    </tr>\n",
              "    <tr>\n",
              "      <th>5</th>\n",
              "      <td>338</td>\n",
              "      <td>да это анастасия. угу. так да да хорошо смотри...</td>\n",
              "    </tr>\n",
              "  </tbody>\n",
              "</table>\n",
              "</div>\n",
              "      <button class=\"colab-df-convert\" onclick=\"convertToInteractive('df-876739d9-c520-40c7-ad79-1148ca0c92da')\"\n",
              "              title=\"Convert this dataframe to an interactive table.\"\n",
              "              style=\"display:none;\">\n",
              "        \n",
              "  <svg xmlns=\"http://www.w3.org/2000/svg\" height=\"24px\"viewBox=\"0 0 24 24\"\n",
              "       width=\"24px\">\n",
              "    <path d=\"M0 0h24v24H0V0z\" fill=\"none\"/>\n",
              "    <path d=\"M18.56 5.44l.94 2.06.94-2.06 2.06-.94-2.06-.94-.94-2.06-.94 2.06-2.06.94zm-11 1L8.5 8.5l.94-2.06 2.06-.94-2.06-.94L8.5 2.5l-.94 2.06-2.06.94zm10 10l.94 2.06.94-2.06 2.06-.94-2.06-.94-.94-2.06-.94 2.06-2.06.94z\"/><path d=\"M17.41 7.96l-1.37-1.37c-.4-.4-.92-.59-1.43-.59-.52 0-1.04.2-1.43.59L10.3 9.45l-7.72 7.72c-.78.78-.78 2.05 0 2.83L4 21.41c.39.39.9.59 1.41.59.51 0 1.02-.2 1.41-.59l7.78-7.78 2.81-2.81c.8-.78.8-2.07 0-2.86zM5.41 20L4 18.59l7.72-7.72 1.47 1.35L5.41 20z\"/>\n",
              "  </svg>\n",
              "      </button>\n",
              "      \n",
              "  <style>\n",
              "    .colab-df-container {\n",
              "      display:flex;\n",
              "      flex-wrap:wrap;\n",
              "      gap: 12px;\n",
              "    }\n",
              "\n",
              "    .colab-df-convert {\n",
              "      background-color: #E8F0FE;\n",
              "      border: none;\n",
              "      border-radius: 50%;\n",
              "      cursor: pointer;\n",
              "      display: none;\n",
              "      fill: #1967D2;\n",
              "      height: 32px;\n",
              "      padding: 0 0 0 0;\n",
              "      width: 32px;\n",
              "    }\n",
              "\n",
              "    .colab-df-convert:hover {\n",
              "      background-color: #E2EBFA;\n",
              "      box-shadow: 0px 1px 2px rgba(60, 64, 67, 0.3), 0px 1px 3px 1px rgba(60, 64, 67, 0.15);\n",
              "      fill: #174EA6;\n",
              "    }\n",
              "\n",
              "    [theme=dark] .colab-df-convert {\n",
              "      background-color: #3B4455;\n",
              "      fill: #D2E3FC;\n",
              "    }\n",
              "\n",
              "    [theme=dark] .colab-df-convert:hover {\n",
              "      background-color: #434B5C;\n",
              "      box-shadow: 0px 1px 3px 1px rgba(0, 0, 0, 0.15);\n",
              "      filter: drop-shadow(0px 1px 2px rgba(0, 0, 0, 0.3));\n",
              "      fill: #FFFFFF;\n",
              "    }\n",
              "  </style>\n",
              "\n",
              "      <script>\n",
              "        const buttonEl =\n",
              "          document.querySelector('#df-876739d9-c520-40c7-ad79-1148ca0c92da button.colab-df-convert');\n",
              "        buttonEl.style.display =\n",
              "          google.colab.kernel.accessAllowed ? 'block' : 'none';\n",
              "\n",
              "        async function convertToInteractive(key) {\n",
              "          const element = document.querySelector('#df-876739d9-c520-40c7-ad79-1148ca0c92da');\n",
              "          const dataTable =\n",
              "            await google.colab.kernel.invokeFunction('convertToInteractive',\n",
              "                                                     [key], {});\n",
              "          if (!dataTable) return;\n",
              "\n",
              "          const docLinkHtml = 'Like what you see? Visit the ' +\n",
              "            '<a target=\"_blank\" href=https://colab.research.google.com/notebooks/data_table.ipynb>data table notebook</a>'\n",
              "            + ' to learn more about interactive tables.';\n",
              "          element.innerHTML = '';\n",
              "          dataTable['output_type'] = 'display_data';\n",
              "          await google.colab.output.renderOutput(dataTable, element);\n",
              "          const docLink = document.createElement('div');\n",
              "          docLink.innerHTML = docLinkHtml;\n",
              "          element.appendChild(docLink);\n",
              "        }\n",
              "      </script>\n",
              "    </div>\n",
              "  </div>\n",
              "  "
            ]
          },
          "metadata": {},
          "execution_count": 6
        }
      ]
    },
    {
      "cell_type": "code",
      "source": [
        "# blob = TextBlob(data_txt['text'][5])\n",
        "# blob.sentences\n",
        "# blob.noun_phrases\n",
        "# blob.ngrams()[:5]"
      ],
      "metadata": {
        "id": "QgWhkMRq1Fi3",
        "colab": {
          "base_uri": "https://localhost:8080/"
        },
        "outputId": "e4b4e95d-0122-443d-fbd9-4353d56e99db"
      },
      "execution_count": null,
      "outputs": [
        {
          "output_type": "execute_result",
          "data": {
            "text/plain": [
              "1"
            ]
          },
          "metadata": {},
          "execution_count": 4
        }
      ]
    },
    {
      "cell_type": "code",
      "source": [
        "# Создание для каждого текста менеджера объекта TextBlob\n",
        "\n",
        "bls = [TextBlob(data_txt['text'][i]) for i in dlg_count]\n",
        "# bls\n",
        "bls[4].ngrams()\n",
        "bls[2].sentences"
      ],
      "metadata": {
        "colab": {
          "base_uri": "https://localhost:8080/"
        },
        "id": "pb6DYC-_6Le_",
        "outputId": "37ac6b44-122e-4b4b-d918-3ece4cf9f672"
      },
      "execution_count": 7,
      "outputs": [
        {
          "output_type": "execute_result",
          "data": {
            "text/plain": [
              "[Sentence(\"алло здравствуйте.\"),\n",
              " Sentence(\"меня зовут ангелина компания диджитал бизнес звоню вам по поводу продления лицензии а мастера мы с вами сотрудничали по видео там.\"),\n",
              " Sentence(\"а нет я еще не отправляла я решила вам набрать.\"),\n",
              " Sentence(\"удобно вам сейчас говорить что я вам так рассказала.\"),\n",
              " Sentence(\"угу хорошо а вы сейчас подскажите по каким критериям выбираете партнера чтобы мы могли подготовить для вас предложение.\"),\n",
              " Sentence(\"угу я поняла ну по стоимости везде одинаковые по официальным партнерам.\"),\n",
              " Sentence(\"поэтому могу сказать вот по преимуществам то есть если про преимущества то у нас более 20 виджетов вам идет бесплатно а там же идет кэшбэк 20% вам эта сумма возвращается то есть когда то что вы можете.\"),\n",
              " Sentence(\"диджитал бизнес.\"),\n",
              " Sentence(\"здесь же это у бизнес.\"),\n",
              " Sentence(\"я вам еще раз говорю на ватсап предложение.\"),\n",
              " Sentence(\"вот и смотрите на счет кэшбэка то что у вас кэшбэк 20% вы за эту сумму можете например приобрести какой то бизнес процесс который будет для вас более актуально то есть для именно вашего бизнеса например там автоматизация в воронке да либо же.\"),\n",
              " Sentence(\"контроль например отказов то есть только для вас подойдет для этого вам наш аналитик уже подберет что для вас будет более актуально поэтому я хотела бы вам предложить встречу там на 15 20 минут.\"),\n",
              " Sentence(\"у вас будут окошки там например на следующей неделе.\"),\n",
              " Sentence(\"вы нашли да наш сайт.\"),\n",
              " Sentence(\"угу.\"),\n",
              " Sentence(\"а подскажите тогда что вам нужно чтобы вы могли подготовить индивидуальное предложение.\"),\n",
              " Sentence(\"угу.\"),\n",
              " Sentence(\"угу.\"),\n",
              " Sentence(\"группировка полей да.\"),\n",
              " Sentence(\"а выделение на диск.\"),\n",
              " Sentence(\"угу.\"),\n",
              " Sentence(\"а ну вот насчет выделения потом подсветки это по процентам есть а насчет вот интеграции как бы как можно реализовать то есть мы приобретаем эту интеграцию а вы можете ее оплатить например кэшбэком.\"),\n",
              " Sentence(\"с кэшбэка у вас 20% идет от суммы которую оплачиваете.\"),\n",
              " Sentence(\"вот а. не подскажете вот.\"),\n",
              " Sentence(\"да конечно вам на ватсап или на почту.\"),\n",
              " Sentence(\"угу на почту.\"),\n",
              " Sentence(\"так давайте тогда проверим смотрите тут просто 2 почты есть почта.\"),\n",
              " Sentence(\"сапаров собачка.\"),\n",
              " Sentence(\"а вот астана собачка ираклас точка кз.\"),\n",
              " Sentence(\"еще раз.\"),\n",
              " Sentence(\"угу.\"),\n",
              " Sentence(\"не перепутала оставлю тогда на ватсап хорошо а за счет времени вы не сориентировали у вас вот на следующей неделе когда будет чтобы созвониться с бизнес аналитиком.\"),\n",
              " Sentence(\"угу.\"),\n",
              " Sentence(\"у вас в любое время есть с какого по какого.\"),\n",
              " Sentence(\"что что.\"),\n",
              " Sentence(\"а в любое время хорошо тогда я аналитику по этому вопросу напишу а он мне тоже напишет свои окошки а я вам в ватсап.\"),\n",
              " Sentence(\"напишу что будет да.\"),\n",
              " Sentence(\"хорошо тогда сейчас вам отправлю и звоните на следующей неделе.\"),\n",
              " Sentence(\"все хорошо\")]"
            ]
          },
          "metadata": {},
          "execution_count": 7
        }
      ]
    },
    {
      "cell_type": "markdown",
      "source": [
        "**Извлечение приветствия и прощания**\n",
        "\n",
        "Предполагается, в компании задан формальный набор приветствий и прощаний, которые должны встречаться в репликах менеджера (они заданы, а не скачиваются из NLP-библиотек)"
      ],
      "metadata": {
        "id": "eqMu912RIUvC"
      }
    },
    {
      "cell_type": "code",
      "source": [
        "greetings = {'здравствуйте', 'добрый день', 'добрый вечер', 'доброе утро'}\n",
        "farewells = {'до свидания', 'всего доброго', 'всего хорошего'}\n",
        "\n",
        "def find_greets_and_farws(bls):\n",
        "  greet_replica = {}\n",
        "  farw_replica = {}\n",
        "\n",
        "  for i_idx, i in enumerate(bls):\n",
        "    # for j in i.ngrams():  # Если требуется проверка объемного формального приветствия, можно увеличить размер нграммов\n",
        "    #   print(' '.join(j))\n",
        "\n",
        "    for j in i.sentences:\n",
        "      # print(j[:-1])\n",
        "      # print(set(j.split()))\n",
        "      # greet = list(set(j[:-1].split()) & greetings)\n",
        "      # farw = list(set(j[:-1].split()) & farewells)\n",
        "      # print(greet)\n",
        "      greet = [k for k in greetings if k in j]\n",
        "      farw = [k for k in farewells if k in j]\n",
        "      if greet:\n",
        "        greet_replica[i_idx] = j\n",
        "      if farw:\n",
        "        farw_replica[i_idx] = j\n",
        "\n",
        "  return greet_replica, farw_replica\n",
        "\n",
        "find_greets_and_farws(bls)"
      ],
      "metadata": {
        "id": "GScUK1DVIcqt",
        "colab": {
          "base_uri": "https://localhost:8080/"
        },
        "outputId": "be05ac2d-35fb-437f-fed9-731a7289d740"
      },
      "execution_count": null,
      "outputs": [
        {
          "output_type": "execute_result",
          "data": {
            "text/plain": [
              "({0: Sentence(\"алло здравствуйте.\"),\n",
              "  1: Sentence(\"алло здравствуйте.\"),\n",
              "  2: Sentence(\"алло здравствуйте.\"),\n",
              "  3: Sentence(\"алло дмитрий добрый день.\")},\n",
              " {0: Sentence(\"всего хорошего до свидания\"),\n",
              "  1: Sentence(\"до свидания\"),\n",
              "  3: Sentence(\"угу все хорошо да понедельника тогда всего доброго\"),\n",
              "  4: Sentence(\"во вторник все ну с вами да тогда до вторника до свидания\"),\n",
              "  5: Sentence(\"ну до свидания хорошего вечера\")})"
            ]
          },
          "metadata": {},
          "execution_count": 37
        }
      ]
    },
    {
      "cell_type": "markdown",
      "source": [
        "*Примечание: в задании \"Извлекать реплики, где менеджер представил себя\" не очевидно, что считать представлением менеджера, считается ли реплика менеджера в ответ на входящий звонок \"это Анастасия\" представлением*"
      ],
      "metadata": {
        "id": "E-Nia8L2BPcY"
      }
    },
    {
      "cell_type": "markdown",
      "source": [
        "**Проверка, поздоровался и попрощался ли менеджер**"
      ],
      "metadata": {
        "id": "9s5Cnectrtj2"
      }
    },
    {
      "cell_type": "code",
      "source": [
        "def check_greet_and_farw(greet_replica, farw_replica):\n",
        "  return set(greet_replica.keys()) & set(farw_replica.keys())"
      ],
      "metadata": {
        "colab": {
          "base_uri": "https://localhost:8080/"
        },
        "id": "FzHk1HQerz9s",
        "outputId": "13a2e80f-7446-4041-a270-b5817caf340f"
      },
      "execution_count": null,
      "outputs": [
        {
          "output_type": "execute_result",
          "data": {
            "text/plain": [
              "{0, 1, 3}"
            ]
          },
          "metadata": {},
          "execution_count": 36
        }
      ]
    },
    {
      "cell_type": "markdown",
      "source": [
        "**Извлечение представления менеджера**"
      ],
      "metadata": {
        "id": "2Tok1yjLCtne"
      }
    },
    {
      "cell_type": "code",
      "source": [
        "# Получение имен из диалогов\n",
        "\n",
        "p_thresh = 0.5\n",
        "morph = pymorphy2.MorphAnalyzer()\n",
        "\n",
        "names =[]\n",
        "\n",
        "for speech in data_txt[\"text\"]:\n",
        "    names_ = []\n",
        "    for idx, word in enumerate(nltk.word_tokenize(speech)):\n",
        "        # print(word)\n",
        "        for p in morph.parse(word):\n",
        "            if 'Name' in p.tag and p.score >= p_thresh:\n",
        "                print('{:<12}\\t({:>12})\\tscore:\\t{:0.3}'.format(word, p.normal_form, p.score))\n",
        "                names_.append(word)\n",
        "    names.append(names_)\n",
        "    print()\n",
        "names"
      ],
      "metadata": {
        "colab": {
          "base_uri": "https://localhost:8080/"
        },
        "id": "P_niBXTj5jm0",
        "outputId": "2d0768a4-c499-4553-be05-36dd59af967f"
      },
      "execution_count": null,
      "outputs": [
        {
          "output_type": "stream",
          "name": "stdout",
          "text": [
            "ангелина    \t(    ангелина)\tscore:\t1.0\n",
            "\n",
            "ангелина    \t(    ангелина)\tscore:\t1.0\n",
            "\n",
            "ангелина    \t(    ангелина)\tscore:\t1.0\n",
            "\n",
            "дмитрий     \t(     дмитрий)\tscore:\t0.986\n",
            "максим      \t(      максим)\tscore:\t0.636\n",
            "дмитрий     \t(     дмитрий)\tscore:\t0.986\n",
            "анастасия   \t(   анастасия)\tscore:\t0.939\n",
            "\n",
            "\n",
            "анастасия   \t(   анастасия)\tscore:\t0.939\n",
            "вячеслав    \t(    вячеслав)\tscore:\t0.882\n",
            "максим      \t(      максим)\tscore:\t0.636\n",
            "дмитрий     \t(     дмитрий)\tscore:\t0.986\n",
            "\n"
          ]
        },
        {
          "output_type": "execute_result",
          "data": {
            "text/plain": [
              "[['ангелина'],\n",
              " ['ангелина'],\n",
              " ['ангелина'],\n",
              " ['дмитрий', 'максим', 'дмитрий', 'анастасия'],\n",
              " [],\n",
              " ['анастасия', 'вячеслав', 'максим', 'дмитрий']]"
            ]
          },
          "metadata": {},
          "execution_count": 9
        }
      ]
    },
    {
      "cell_type": "code",
      "source": [
        "# Менеджер представился + имя менеджера\n",
        "\n",
        "intro_words = {'зовут', 'имя', 'это'}  # меня зовут, мое имя, это <имя>\n",
        "\n",
        "managers = {}\n",
        "intro_replica = {}\n",
        "company_sentences = {}\n",
        "\n",
        "for i_idx, i in enumerate(bls):\n",
        "  for j in i.ngrams():  # по умолчанию 3 слова\n",
        "    man_name = list(set(j) & set(names[i_idx]))\n",
        "    is_intro_word = list(set(j) & intro_words)\n",
        "    if is_intro_word and man_name:\n",
        "      managers[i_idx] = man_name[0]\n",
        "  for j in i.sentences:\n",
        "    if i_idx in intro_replica.keys() and i_idx in company_sentences.keys():\n",
        "      break\n",
        "    if i_idx in managers.keys() and managers[i_idx] in j:\n",
        "      intro_replica[i_idx] = j\n",
        "    if 'компания' in j:\n",
        "      company_sentences[i_idx] = j\n",
        "# managers\n",
        "# intro_replica\n",
        "company_sentences"
      ],
      "metadata": {
        "id": "mfkqg390UK6l",
        "colab": {
          "base_uri": "https://localhost:8080/"
        },
        "outputId": "ab5102f1-23c5-4a1f-eaa9-a8fe87bb3464"
      },
      "execution_count": null,
      "outputs": [
        {
          "output_type": "execute_result",
          "data": {
            "text/plain": [
              "{0: Sentence(\"меня зовут ангелина компания диджитал бизнес звоним вам по поводу продления лицензии а мы с серым у вас скоро срок заканчивается.\"),\n",
              " 1: Sentence(\"меня зовут ангелина компания диджитал бизнес звоню вам по поводу продления а мы сели обратила внимание что у вас срок заканчивается.\"),\n",
              " 2: Sentence(\"меня зовут ангелина компания диджитал бизнес звоню вам по поводу продления лицензии а мастера мы с вами сотрудничали по видео там.\"),\n",
              " 3: Sentence(\"добрый меня максим зовут компания китобизнес удобно говорить.\")}"
            ]
          },
          "metadata": {},
          "execution_count": 10
        }
      ]
    },
    {
      "cell_type": "markdown",
      "source": [
        "**Извлечение названий компаний**"
      ],
      "metadata": {
        "id": "ZR_nALCgWtnz"
      }
    },
    {
      "cell_type": "code",
      "source": [
        "stop_words = stopwords.words('russian')\n",
        "morph = pymorphy2.MorphAnalyzer()\n",
        "# speech_part = str(morph.parse('зовут')[0].tag).split(',')[0]"
      ],
      "metadata": {
        "id": "TEJSC_26hEk_"
      },
      "execution_count": null,
      "outputs": []
    },
    {
      "cell_type": "code",
      "source": [
        "# def exctract_companies(company_sentences):\n",
        "sp_parts_in_company_name = ['NOUN', 'ADJF']\n",
        "\n",
        "sentences = {idx: nltk.word_tokenize(str(i)[:-1]) for idx, i in company_sentences.items()}\n",
        "sp_parts = {}\n",
        "companies = {}\n",
        "\n",
        "for idx, i in sentences.items():\n",
        "  tokens = [s for s in i if s not in stop_words]\n",
        "  sp_parts[idx] = {t: str(morph.parse(t)[0].tag).split(',')[0] for t in tokens}\n",
        "  comp_name = ''\n",
        "  k = list(sp_parts[idx].keys())\n",
        "  v = list(sp_parts[idx].values())\n",
        "  co_idx = k.index('компания')\n",
        "  k = k[co_idx + 1:]\n",
        "  v = v[co_idx + 1:]\n",
        "  for c in zip(k, v):\n",
        "    if c[1] in sp_parts_in_company_name:\n",
        "      comp_name = comp_name + c[0] + ' '\n",
        "    else:\n",
        "      break\n",
        "\n",
        "  companies[idx] = comp_name[:-1]\n",
        "  \n",
        "companies"
      ],
      "metadata": {
        "colab": {
          "base_uri": "https://localhost:8080/"
        },
        "id": "mi3LYcXrjtPL",
        "outputId": "254a73db-9366-4f61-ab90-d3489a423582"
      },
      "execution_count": null,
      "outputs": [
        {
          "output_type": "execute_result",
          "data": {
            "text/plain": [
              "{0: 'диджитал бизнес',\n",
              " 1: 'диджитал бизнес',\n",
              " 2: 'диджитал бизнес',\n",
              " 3: 'китобизнес'}"
            ]
          },
          "metadata": {},
          "execution_count": 35
        }
      ]
    },
    {
      "cell_type": "code",
      "source": [
        "# sentences = nltk.word_tokenize(str(company_sentences[0])[:-1])\n",
        "\n",
        "# print(nltk.pos_tag(nltk.word_tokenize(sent)))\n",
        "\n",
        "tokens = [s for s in sentences if s not in stop_words]\n",
        "sp_parts = {t: str(morph.parse(t)[0].tag).split(',')[0] for t in tokens}\n",
        "sp_parts"
      ],
      "metadata": {
        "colab": {
          "base_uri": "https://localhost:8080/"
        },
        "id": "eV5eP3ZTdEIo",
        "outputId": "0c27ba8b-c4ac-48a1-aeed-526a41436d67"
      },
      "execution_count": null,
      "outputs": [
        {
          "output_type": "execute_result",
          "data": {
            "text/plain": [
              "{'зовут': 'VERB',\n",
              " 'ангелина': 'NOUN',\n",
              " 'компания': 'NOUN',\n",
              " 'диджитал': 'ADJF',\n",
              " 'бизнес': 'NOUN',\n",
              " 'звоним': 'VERB',\n",
              " 'поводу': 'NOUN',\n",
              " 'продления': 'NOUN',\n",
              " 'лицензии': 'NOUN',\n",
              " 'серым': 'ADJF',\n",
              " 'скоро': 'ADVB',\n",
              " 'срок': 'NOUN',\n",
              " 'заканчивается': 'VERB'}"
            ]
          },
          "metadata": {},
          "execution_count": 62
        }
      ]
    }
  ]
}